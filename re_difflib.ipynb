{
  "nbformat": 4,
  "nbformat_minor": 0,
  "metadata": {
    "colab": {
      "name": "re_difflib.ipynb",
      "provenance": [],
      "collapsed_sections": [],
      "toc_visible": true
    },
    "kernelspec": {
      "name": "python3",
      "display_name": "Python 3"
    }
  },
  "cells": [
    {
      "cell_type": "markdown",
      "metadata": {
        "id": "Ue-6bbplZ-VW"
      },
      "source": [
        "# Модуль re"
      ]
    },
    {
      "cell_type": "markdown",
      "metadata": {
        "id": "CVLis9kQZ_lb"
      },
      "source": [
        "Основные функции модуля re:\n",
        "\n",
        "match() - ищет последовательность в начале строки \\\n",
        "search() - ищет первое совпадение с шаблоном\\\n",
        "findall() - ищет все совпадения с шаблоном. Возвращает результирующие строки в виде списка\\\n",
        "finditer() - ищет все совпадения с шаблоном. Возвращает итератор\\\n",
        "compile() - компилирует регулярное выражение. К этому объекту затем можно применять все перечисленные функции\\"
      ]
    },
    {
      "cell_type": "markdown",
      "metadata": {
        "id": "PQMr4zghaeAE"
      },
      "source": [
        "### *Функция Match*"
      ]
    },
    {
      "cell_type": "code",
      "metadata": {
        "id": "yXkhMugTa0CT",
        "outputId": "cb80002c-b990-493b-b408-073fc46ff0ac",
        "colab": {
          "base_uri": "https://localhost:8080/"
        }
      },
      "source": [
        "import re\n",
        "log = 'Jun  3 14:39:05.941: %SW_MATM-4-MACFLAP_NOTIF: Host f03a.b216.7ad7 in vlan 10 is flapping between port Gi0/5 and port Gi0/15'\n",
        "match = re.search(r'Host (\\S+) in vlan (\\d+) .* port (\\S+) and port (\\S+)', log)\n",
        "match\n"
      ],
      "execution_count": 2,
      "outputs": [
        {
          "output_type": "execute_result",
          "data": {
            "text/plain": [
              "<_sre.SRE_Match object; span=(47, 124), match='Host f03a.b216.7ad7 in vlan 10 is flapping betwee>"
            ]
          },
          "metadata": {
            "tags": []
          },
          "execution_count": 2
        }
      ]
    },
    {
      "cell_type": "markdown",
      "metadata": {
        "id": "oFyToSESbOWj"
      },
      "source": [
        "Вывод в 3 строке просто отображает информацию об объекте. Поэтому не стоит полагаться на то, что отображается в части match, так как отображаемая строка обрезается по фиксированному количеству знаков."
      ]
    },
    {
      "cell_type": "code",
      "metadata": {
        "id": "VuuGNxXAhRkY"
      },
      "source": [
        ""
      ],
      "execution_count": null,
      "outputs": []
    },
    {
      "cell_type": "markdown",
      "metadata": {
        "id": "-BztLJtJbW56"
      },
      "source": [
        "### Функция search()\n",
        "\n",
        "\n"
      ]
    },
    {
      "cell_type": "markdown",
      "metadata": {
        "id": "T3fgRumXfKJ0"
      },
      "source": [
        "* используется для поиска подстроки, которая соответствует шаблону\n",
        "* возвращает объект Match, если подстрока найдена\n",
        "* возвращает None, если подстрока не найдена\n",
        "Функция search подходит в том случае, когда надо найти только одно совпадение в строке, например, когда регулярное выражение описывает всю строку или часть строки.\n",
        "\n",
        "Рассмотрим пример использования функции search в разборе лог-файла.\n",
        "\n",
        "В файле log.txt находятся лог-сообщения с информацией о том, что один и тот же MAC слишком быстро переучивается то на одном, то на другом интерфейсе. Одна из причин таких сообщений - петля в сети.\n",
        "\n",
        "Содержимое файла log.txt:"
      ]
    },
    {
      "cell_type": "markdown",
      "metadata": {
        "id": "IvPVuyjygn17"
      },
      "source": [
        "%SW_MATM-4-MACFLAP_NOTIF: Host 01e2.4c18.0156 in vlan 10 is flapping between port Gi0/16 and port Gi0/24 \\\n",
        "%SW_MATM-4-MACFLAP_NOTIF: Host 01e2.4c18.0156 in vlan 10 is flapping between port Gi0/16 and port Gi0/24  \\\n",
        "%SW_MATM-4-MACFLAP_NOTIF: Host 01e2.4c18.0156 in vlan 10 is flapping between port Gi0/24 and port Gi0/19  \\\n",
        "%SW_MATM-4-MACFLAP_NOTIF: Host 01e2.4c18.0156 in vlan 10 is flapping between port Gi0/24 and port Gi0/16"
      ]
    },
    {
      "cell_type": "markdown",
      "metadata": {
        "id": "2agE8zHtg57z"
      },
      "source": [
        "При этом MAC-адрес может прыгать между несколькими портами. В таком случае очень важно знать, с каких портов прилетает MAC.\n",
        "\n",
        "Попробуем вычислить, между какими портами и в каком VLAN образовалась проблема. Проверка регулярного выражения с одной строкой из log-файла:"
      ]
    },
    {
      "cell_type": "code",
      "metadata": {
        "id": "XH4Vd-M-g7ur",
        "outputId": "23d36b08-fb3b-4bff-db49-f86c28dba1c3",
        "colab": {
          "base_uri": "https://localhost:8080/"
        }
      },
      "source": [
        "import re\n",
        "log = '%SW_MATM-4-MACFLAP_NOTIF: Host 01e2.4c18.0156 in vlan 10 is flapping between port Gi0/16 and port Gi0/24'\n",
        "match = re.search(r'Host \\S+ 'r'in vlan (\\d+) '\n",
        "                  r'is flapping between port '\n",
        "                  r'(\\S+) and port (\\S+)', log)\n",
        "match"
      ],
      "execution_count": 6,
      "outputs": [
        {
          "output_type": "execute_result",
          "data": {
            "text/plain": [
              "<_sre.SRE_Match object; span=(26, 104), match='Host 01e2.4c18.0156 in vlan 10 is flapping betwee>"
            ]
          },
          "metadata": {
            "tags": []
          },
          "execution_count": 6
        }
      ]
    },
    {
      "cell_type": "markdown",
      "metadata": {
        "id": "6FtEgkjvhsi7"
      },
      "source": [
        "### Функция findall()"
      ]
    },
    {
      "cell_type": "markdown",
      "metadata": {
        "id": "OpZQUrBahw8T"
      },
      "source": [
        "Функция findall():\n",
        "\n",
        "* используется для поиска всех непересекающихся совпадений в шаблоне\n",
        "возвращает:\n",
        "  * список строк, которые описаны регулярным выражением, если в регулярном выражении нет групп\n",
        "  * список строк, которые совпали с регулярным выражением в группе, если в регулярном выражении одна группа\n",
        "  * список кортежей, в которых находятся строки, которые совпали с выражением в группе, если групп несколько\n",
        "  \n",
        "Рассмотрим работу findall на примере вывода команды sh mac address-table:"
      ]
    },
    {
      "cell_type": "code",
      "metadata": {
        "id": "dtTM9WN1h86C",
        "outputId": "81fd12ca-5d16-4b9a-8f0e-194076e58ee5",
        "colab": {
          "base_uri": "https://localhost:8080/"
        }
      },
      "source": [
        "mac_address_table = open('CAM_table.txt').read()\n",
        "print(mac_address_table)"
      ],
      "execution_count": 7,
      "outputs": [
        {
          "output_type": "stream",
          "text": [
            "          Mac Address Table\n",
            "-------------------------------------------\n",
            "\n",
            "Vlan    Mac Address       Type        Ports\n",
            "----    -----------       --------    -----\n",
            " 100    a1b2.ac10.7000    DYNAMIC     Gi0/1\n",
            " 200    a0d4.cb20.7000    DYNAMIC     Gi0/2\n",
            " 300    acb4.cd30.7000    DYNAMIC     Gi0/3\n",
            " 100    a2bb.ec40.7000    DYNAMIC     Gi0/4\n",
            " 500    aa4b.c550.7000    DYNAMIC     Gi0/5\n",
            " 200    a1bb.1c60.7000    DYNAMIC     Gi0/6\n",
            " 300    aa0b.cc70.7000    DYNAMIC     Gi0/7\n"
          ],
          "name": "stdout"
        }
      ]
    },
    {
      "cell_type": "markdown",
      "metadata": {
        "id": "tYcxdS-kkOjM"
      },
      "source": [
        "Первый пример - регулярное выражение без групп. В этом случае findall возвращает список строк, которые совпали с регулярным выражением.\n",
        "\n",
        "Например, с помощью findall можно получить список строк с соответствиями vlan - mac - interface и избавиться от заголовка в выводе команды:"
      ]
    },
    {
      "cell_type": "code",
      "metadata": {
        "id": "LULsm1JckQ1a",
        "outputId": "611c09c8-4033-4d2f-f89e-1913e5b6a387",
        "colab": {
          "base_uri": "https://localhost:8080/"
        }
      },
      "source": [
        "import re\n",
        "re.findall(r'\\d+ +\\S+ +\\w+ +\\S+', mac_address_table)"
      ],
      "execution_count": 8,
      "outputs": [
        {
          "output_type": "execute_result",
          "data": {
            "text/plain": [
              "['100    a1b2.ac10.7000    DYNAMIC     Gi0/1',\n",
              " '200    a0d4.cb20.7000    DYNAMIC     Gi0/2',\n",
              " '300    acb4.cd30.7000    DYNAMIC     Gi0/3',\n",
              " '100    a2bb.ec40.7000    DYNAMIC     Gi0/4',\n",
              " '500    aa4b.c550.7000    DYNAMIC     Gi0/5',\n",
              " '200    a1bb.1c60.7000    DYNAMIC     Gi0/6',\n",
              " '300    aa0b.cc70.7000    DYNAMIC     Gi0/7']"
            ]
          },
          "metadata": {
            "tags": []
          },
          "execution_count": 8
        }
      ]
    },
    {
      "cell_type": "markdown",
      "metadata": {
        "id": "BfhU4JbNkXCC"
      },
      "source": [
        "Обратите внимание, что findall возвращает список строк, а не объект Match.\n",
        "\n",
        "Как только в регулярном выражении появляется группа, findall ведет себя по-другому. Если в выражении используется одна группа, findall возвращает список строк, которые совпали с выражением в группе:"
      ]
    },
    {
      "cell_type": "code",
      "metadata": {
        "id": "77TDXJLLkYED",
        "outputId": "85f9ee33-d91d-4b72-e56b-89a2e4c7e47e",
        "colab": {
          "base_uri": "https://localhost:8080/"
        }
      },
      "source": [
        "re.findall(r'\\d+ +(\\S+) +\\w+ +\\S+', mac_address_table)"
      ],
      "execution_count": 9,
      "outputs": [
        {
          "output_type": "execute_result",
          "data": {
            "text/plain": [
              "['a1b2.ac10.7000',\n",
              " 'a0d4.cb20.7000',\n",
              " 'acb4.cd30.7000',\n",
              " 'a2bb.ec40.7000',\n",
              " 'aa4b.c550.7000',\n",
              " 'a1bb.1c60.7000',\n",
              " 'aa0b.cc70.7000']"
            ]
          },
          "metadata": {
            "tags": []
          },
          "execution_count": 9
        }
      ]
    },
    {
      "cell_type": "markdown",
      "metadata": {
        "id": "lX6C6_HCkbJr"
      },
      "source": [
        "### Функция finditer"
      ]
    },
    {
      "cell_type": "markdown",
      "metadata": {
        "id": "OaJx-mv8koET"
      },
      "source": [
        "Функция finditer():\n",
        "\n",
        "* используется для поиска всех непересекающихся совпадений в шаблоне\n",
        "* возвращает итератор с объектами Match\n",
        "* finditer возвращает итератор даже в том случае, когда совпадение не найдено\n",
        "Функция finditer отлично подходит для обработки тех команд, вывод которых отображается столбцами. Например, sh ip int br, sh mac address-table и др. В этом случае его можно применять ко всему выводу команды.\n",
        "\n",
        "Пример вывода sh ip int br:"
      ]
    },
    {
      "cell_type": "code",
      "metadata": {
        "id": "212fm2E-kwbj",
        "outputId": "62ec6e35-4016-4f66-a24a-49f76da1729d",
        "colab": {
          "base_uri": "https://localhost:8080/"
        }
      },
      "source": [
        "sh_ip_int_br = '''\n",
        "   ...: R1#show ip interface brief\n",
        "   ...: Interface             IP-Address      OK? Method Status           Protocol\n",
        "   ...: FastEthernet0/0       15.0.15.1       YES manual up               up\n",
        "   ...: FastEthernet0/1       10.0.12.1       YES manual up               up\n",
        "   ...: FastEthernet0/2       10.0.13.1       YES manual up               up\n",
        "   ...: FastEthernet0/3       unassigned      YES unset  up               up\n",
        "   ...: Loopback0             10.1.1.1        YES manual up               up\n",
        "   ...: Loopback100           100.0.0.1       YES manual up               up\n",
        "   ...: '''\n",
        "result = re.finditer(r'(\\S+) +'\n",
        "                  r'([\\d.]+) +'\n",
        "                  r'\\w+ +\\w+ +'\n",
        "                  r'(up|down|administratively down) +'\n",
        "                  r'(up|down)',\n",
        "                  sh_ip_int_br)\n",
        "result"
      ],
      "execution_count": 14,
      "outputs": [
        {
          "output_type": "execute_result",
          "data": {
            "text/plain": [
              "<callable_iterator at 0x7fbd2133c518>"
            ]
          },
          "metadata": {
            "tags": []
          },
          "execution_count": 14
        }
      ]
    },
    {
      "cell_type": "markdown",
      "metadata": {
        "id": "WKFGwfoKlLsa"
      },
      "source": [
        "### Функция compile"
      ]
    },
    {
      "cell_type": "markdown",
      "metadata": {
        "id": "P-LGoxIKlZdK"
      },
      "source": [
        "В Python есть возможность заранее скомпилировать регулярное выражение, а затем использовать его. Это особенно полезно в тех случаях, когда регулярное выражение много используется в скрипте.\n",
        "\n",
        "Использование компилированного выражения может ускорить обработку, и, как правило, такой вариант удобней использовать, так как в программе разделяется создание регулярного выражения и его использование. Кроме того, при использовании функции re.compile создается объект RegexObject, у которого есть несколько дополнительных возможностей, которых нет в объекте MatchObject.\n",
        "\n",
        "Для компиляции регулярного выражения используется функция re.compile:"
      ]
    },
    {
      "cell_type": "code",
      "metadata": {
        "id": "vEE8INkPlaYr"
      },
      "source": [
        "regex = re.compile(r'\\d+ +\\S+ +\\w+ +\\S+')"
      ],
      "execution_count": null,
      "outputs": []
    },
    {
      "cell_type": "markdown",
      "metadata": {
        "id": "sRKnT-NImG2s"
      },
      "source": [
        "У объекта RegexObject доступны такие методы и атрибуты:"
      ]
    },
    {
      "cell_type": "code",
      "metadata": {
        "id": "gp6rm2xImIaS"
      },
      "source": [
        "[method for method in dir(regex) if not method.startswith('_')]"
      ],
      "execution_count": null,
      "outputs": []
    },
    {
      "cell_type": "markdown",
      "metadata": {
        "id": "0NCKR8E6nUVe"
      },
      "source": [
        "# Модуль difflib"
      ]
    },
    {
      "cell_type": "markdown",
      "metadata": {
        "id": "m9mb12hXneLj"
      },
      "source": [
        "Этот модуль предоставляет классы и функции для сравнения последовательностей. Он может быть использован для сравнения файлов, и может создавать разностную информацию в различных форматах, включая HTML, контекста и унифицированные diff’ы."
      ]
    },
    {
      "cell_type": "markdown",
      "metadata": {
        "id": "-hQaSI6jne0E"
      },
      "source": [
        "### class difflib.SequenceMatcher\n",
        "Это гибкий класс для сравнения пар последовательностей любого типа при условии, что элементы последовательности являются хэшируемым. Базовый алгоритм предшествует, и является немного более модным, чем алгоритм, опубликованный в конце 1980-х годов Ratcliff и Obershelp под гиперболическим названием «сопоставление гештальт-паттернов». Идея состоит в том, чтобы найти самую длинную смежную подпоследовательность, которая не содержит «нежелательных» элементов; эти «нежелательные» элементы являются неинтересными в некотором смысле, например пустые строки или пробелы. (Обработка нежелательной почты является расширением алгоритма Ratcliff и Obershelp.) Эта же идея затем рекурсивно применяется к частям последовательностей слева и справа от совпадающей подпоследовательности. Это не дает минимального редактирования последовательности, но как правило, возвращают совпадения, которые «выглядят правильно» для людей.\n",
        "\n",
        "Тайминг: базовым алгоритмом Ratcliff-Obershelp работает за кубическое время в наихудшем случае и квадратичное время в ожидаемом случае. SequenceMatcher работает за квадратичное время для наихудшего случая и поведение ожидаемого случая, зависит от сложного способа определения количества элементов содержащихся в последовательности; лучшее время случая линейно.\n",
        "\n",
        "Автоматическая мусорная эвристика: SequenceMatcher поддерживает эвристику, которая автоматически рассматривает определенные элементы последовательности как нежелательные. Эвристика подсчитывает, сколько раз каждый отдельный элемент появляется в последовательности. Если дубликаты элемента (после первого) составляют более 1% последовательности, а длина последовательности составляет не менее 200 элементов, этот элемент помечается как «популярный» и рассматривается как нежелательный для целей сопоставления последовательности. Этот эвристический параметр можно отключить, установив для аргумента autojunk значение False при создании SequenceMatcher."
      ]
    },
    {
      "cell_type": "markdown",
      "metadata": {
        "id": "yA57RyIQn4Sz"
      },
      "source": [
        "### Примеры SequenceMatcher"
      ]
    },
    {
      "cell_type": "markdown",
      "metadata": {
        "id": "GdxFcOXZpSzM"
      },
      "source": [
        "#### ratio()\n",
        "Возвращает меру сходства последовательностей в виде float в диапазоне [0, 1].\n",
        "\n",
        "Где T - общее число элементов в обеих последовательностях, а M - количество совпадений, это 2,0* M/T. Обратите внимание, что 1.0, если последовательности идентичны, и 0.0, если у них нет ничего общего.\n",
        "\n",
        "Этот метод затратен в вычислениях, если get_matching_blocks() или get_opcodes() еще не былы вызван, в этом случае вы можете попытаться quick_ratio() или real_quick_ratio() сначала получить верхнюю границу."
      ]
    },
    {
      "cell_type": "markdown",
      "metadata": {
        "id": "-ZmX9XBEn90y"
      },
      "source": [
        "В этом примере сравниваются две строки, рассматривая пробелы как «мусор»:"
      ]
    },
    {
      "cell_type": "code",
      "metadata": {
        "id": "2Q7WfNd_oBG6",
        "outputId": "867eaa5a-e4f8-4d0a-917d-d9c7712e18cf",
        "colab": {
          "base_uri": "https://localhost:8080/"
        }
      },
      "source": [
        "import difflib\n",
        "s = difflib.SequenceMatcher(lambda x: x == \" \",\n",
        "                    \"private Thread currentThread;\",\n",
        "                    \"private volatile Thread currentThread;\")\n",
        "print(round(s.ratio(), 3))"
      ],
      "execution_count": 21,
      "outputs": [
        {
          "output_type": "stream",
          "text": [
            "0.866\n"
          ],
          "name": "stdout"
        }
      ]
    },
    {
      "cell_type": "markdown",
      "metadata": {
        "id": "2xsMAVeZo0AV"
      },
      "source": [
        "ratio() возвращает float в [0, 1], измеряя подобие последовательностей. Как правило, ratio() значение более 0.6 означает, что последовательности являются близкими совпадениями."
      ]
    },
    {
      "cell_type": "markdown",
      "metadata": {
        "id": "E97W9CNEqAFD"
      },
      "source": [
        "####find_longest_match(alo, ahi, blo, bhi)\n",
        "Найти самый длинный соответствующий блок в a[alo:ahi] и b[blo:bhi].\n",
        "\n",
        "Если isjunk пропущен или None, find_longest_match() возвращает (i, j, k) так, что a[i:i+k] равен b[j:j+k], где alo <= i <= i+k <= ahi и blo <= j <= j+k <= bhi. Для всех (i', j', k'), удовлетворяющих этим условиям, также выполняются дополнительные условия k >= k', i <= i' и если i == i', j <= j'. Другими словами, из всех максимальных совпадающих блоков, возвращает тот, который начинается раньше всего в a и из всех максимальных совпадающих блоков, которые начинаются с самого раннего в a, возвращает тот, который начинается раньше всего в b."
      ]
    },
    {
      "cell_type": "code",
      "metadata": {
        "id": "9j2FUUbIqEmT",
        "outputId": "f65b9c77-4af8-4521-df90-9917dd16b000",
        "colab": {
          "base_uri": "https://localhost:8080/"
        }
      },
      "source": [
        "import difflib\n",
        "s = difflib.SequenceMatcher(None, \" abcd\", \"abcd abcd\")\n",
        "s.find_longest_match(0, 5, 0, 9)\n"
      ],
      "execution_count": 23,
      "outputs": [
        {
          "output_type": "execute_result",
          "data": {
            "text/plain": [
              "Match(a=0, b=4, size=5)"
            ]
          },
          "metadata": {
            "tags": []
          },
          "execution_count": 23
        }
      ]
    },
    {
      "cell_type": "markdown",
      "metadata": {
        "id": "d5AZDH7gqvxb"
      },
      "source": [
        "###class difflib.Differ(linejunk=None, charjunk=None)\n",
        "Дополнительные ключевые параметры linejunk и charjunk для функций фильтра (или None):\n",
        "\n",
        "linejunk: функция, принимающая один строковый аргумент и возвращающая значение true, если строка является нежелательной. Значение по умолчанию равно None, что означает, что ни одна строка не считается нежелательной.\n",
        "\n",
        "charjunk: функция, принимающая один символ (строка длиной 1) и возвращающая значение true, если символ является нежелательным. Значение по умолчанию равно None, что означает, что ни один символ не считается нежелательным.\n",
        "\n",
        "Эти функции нежелательной фильтрации ускоряют сопоставление для поиска различий и не приводят к игнорированию различных строк или символов. Прочитайте описание параметра метода find_longest_match() isjunk для объяснения.\n",
        "\n",
        "Differ объекты используются (создаются дельты) одним методом:\n",
        "\n",
        "* compare(a, b)\n",
        "Сравнить две последовательности строк и создать дельту (последовательность строк).\n",
        "\n",
        "Каждая последовательность должна содержать отдельную одну строку, заканчивающуюся символом новой строки. Такие последовательности могут быть получены из метода readlines() файлоподобных объектов. Сформированная дельта также состоит из завершенных симолом новой строки строк, готовых к печати как есть с помощью метода writelines() файлоподобного объекта."
      ]
    },
    {
      "cell_type": "markdown",
      "metadata": {
        "id": "wbRGFeLDrG6r"
      },
      "source": [
        "#### Пример"
      ]
    },
    {
      "cell_type": "markdown",
      "metadata": {
        "id": "FC8G4uKsrPez"
      },
      "source": [
        "В этом примере сравниваются два текста. Сначала мы настраиваем тексты, последовательностью отдельных однострочных строк, заканчивающихся символом новой строки (такие последовательности также могут быть получены из метода readlines() файлоподобных объектов):"
      ]
    },
    {
      "cell_type": "code",
      "metadata": {
        "id": "NrvLfRgVrQ-q",
        "outputId": "6472f5da-4d76-409c-a7af-18108b9badc2",
        "colab": {
          "base_uri": "https://localhost:8080/"
        }
      },
      "source": [
        "from difflib import Differ\n",
        "from pprint import pprint\n",
        "\n",
        "text1 = '''  1. Beautiful is better than ugly.\n",
        "  2. Explicit is better than implicit.\n",
        "  3. Simple is better than complex.\n",
        "  4. Complex is better than complicated.\n",
        "'''.splitlines(keepends=True)\n",
        "len(text1)\n",
        "\n",
        "text1[0][-1]\n",
        "\n",
        "text2 = '''  1. Beautiful is better than ugly.\n",
        "  3.   Simple is better than complex.\n",
        "  4. Complicated is better than complex.\n",
        "  5. Flat is better than nested.\n",
        "'''.splitlines(keepends=True)\n",
        "d = Differ()\n",
        "result = list(d.compare(text1, text2))\n",
        "pprint(result)"
      ],
      "execution_count": 26,
      "outputs": [
        {
          "output_type": "stream",
          "text": [
            "['    1. Beautiful is better than ugly.\\n',\n",
            " '-   2. Explicit is better than implicit.\\n',\n",
            " '-   3. Simple is better than complex.\\n',\n",
            " '+   3.   Simple is better than complex.\\n',\n",
            " '?     ++\\n',\n",
            " '-   4. Complex is better than complicated.\\n',\n",
            " '?            ^                     ---- ^\\n',\n",
            " '+   4. Complicated is better than complex.\\n',\n",
            " '?           ++++ ^                      ^\\n',\n",
            " '+   5. Flat is better than nested.\\n']\n"
          ],
          "name": "stdout"
        }
      ]
    },
    {
      "cell_type": "markdown",
      "metadata": {
        "id": "EoenZA3Dr3dd"
      },
      "source": [
        "### Задание \n",
        "\n",
        "Найдите любой небольшой текст и с помощью re найдите предложения, которые начинаются с согласной буквы, а заканчиваются гласной. Далее с помощью difflib найдите разницу между самым большим и самым маленьким предложением. "
      ]
    }
  ]
}